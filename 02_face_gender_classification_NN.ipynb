{
 "cells": [
  {
   "cell_type": "markdown",
   "metadata": {},
   "source": [
    "## Classes are balanced, so just set sfuffle=True"
   ]
  },
  {
   "cell_type": "code",
   "execution_count": null,
   "metadata": {},
   "outputs": [],
   "source": [
    "transform = transforms.Compose([\n",
    "        transforms.Resize((128, 128)),\n",
    "#         transforms.RandomCrop(128),\n",
    "#         transforms.RandomPerspective(.25),\n",
    "#         transforms.ColorJitter(brightness=.2, contrast=.5, saturation=.4, hue=.1),\n",
    "#         transforms.RandomAffine(degrees=50, shear=10),\n",
    "#         transforms.RandomGrayscale(.3),\n",
    "        transforms.ToTensor()\n",
    "        ])\n",
    "# \"\"\"does preprocessing images magic\"\"\""
   ]
  },
  {
   "cell_type": "code",
   "execution_count": null,
   "metadata": {},
   "outputs": [],
   "source": [
    "data = datasets.ImageFolder(DATA_DIR, transform=transform)"
   ]
  },
  {
   "cell_type": "code",
   "execution_count": null,
   "metadata": {},
   "outputs": [],
   "source": [
    "data"
   ]
  },
  {
   "cell_type": "code",
   "execution_count": null,
   "metadata": {},
   "outputs": [],
   "source": [
    "batch_size = 64\n",
    "loader = torch.utils.data.DataLoader(data, batch_size=batch_size, shuffle=True)  "
   ]
  },
  {
   "cell_type": "code",
   "execution_count": null,
   "metadata": {},
   "outputs": [],
   "source": [
    "datagen = iter(loader)\n",
    "images, labels = datagen.next()"
   ]
  },
  {
   "cell_type": "markdown",
   "metadata": {},
   "source": [
    "### Информация о данных"
   ]
  },
  {
   "cell_type": "code",
   "execution_count": null,
   "metadata": {},
   "outputs": [],
   "source": [
    "print(f\"Всего {len(data.imgs)} изображений в датасете\")\n",
    "print(f\"Только {len(np.unique(labels))} класса изображений - гендерная классификация\")\n",
    "print(f\"Изображения приведены к размеру {images.shape[2]}x{images.shape[3]}\")\n",
    "print(f\"Представление батчем тензоров вида {images.numpy().shape} со значениями интенсивности в \\\n",
    "{np.min(images.numpy().reshape(-1))} - {np.max(images.numpy().reshape(-1))} интервале и 3 канала цвета\")"
   ]
  }
 ],
 "metadata": {
  "kernelspec": {
   "display_name": "Python 3",
   "language": "python",
   "name": "python3"
  },
  "language_info": {
   "codemirror_mode": {
    "name": "ipython",
    "version": 3
   },
   "file_extension": ".py",
   "mimetype": "text/x-python",
   "name": "python",
   "nbconvert_exporter": "python",
   "pygments_lexer": "ipython3",
   "version": "3.7.4"
  },
  "toc": {
   "base_numbering": 1,
   "nav_menu": {},
   "number_sections": true,
   "sideBar": true,
   "skip_h1_title": false,
   "title_cell": "Table of Contents",
   "title_sidebar": "Contents",
   "toc_cell": false,
   "toc_position": {},
   "toc_section_display": true,
   "toc_window_display": false
  }
 },
 "nbformat": 4,
 "nbformat_minor": 2
}
